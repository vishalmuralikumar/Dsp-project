{
 "cells": [
  {
   "cell_type": "code",
   "execution_count": 294,
   "outputs": [],
   "source": [
    "import pandas as pd\n",
    "\n",
    "from sklearn.preprocessing import StandardScaler\n",
    "from sklearn.impute import SimpleImputer\n",
    "import numpy as np\n",
    "from sklearn.compose import ColumnTransformer\n",
    "from sklearn.pipeline import Pipeline\n",
    "from sklearn.preprocessing import OneHotEncoder\n",
    "from sklearn.linear_model import LinearRegression\n",
    "from sklearn.preprocessing import MinMaxScaler\n"
   ],
   "metadata": {
    "collapsed": false,
    "ExecuteTime": {
     "start_time": "2023-04-22T21:42:47.281839Z",
     "end_time": "2023-04-22T21:42:47.293718Z"
    }
   }
  },
  {
   "cell_type": "code",
   "execution_count": 295,
   "outputs": [],
   "source": [
    "df_cars = pd.read_csv('auto.csv')"
   ],
   "metadata": {
    "collapsed": false,
    "ExecuteTime": {
     "start_time": "2023-04-22T21:42:48.554051Z",
     "end_time": "2023-04-22T21:42:48.565707Z"
    }
   }
  },
  {
   "cell_type": "code",
   "execution_count": 297,
   "outputs": [],
   "source": [
    "headers= [\"symboling\",\"normalized-losses\",\"make\",\"fuel-type\",\"aspiration\", \"num-of-doors\",\"body-style\",\n",
    "         \"drive-wheels\",\"engine-location\",\"wheel-base\", \"length\",\"width\",\"height\",\"curb-weight\",\"engine-type\",\n",
    "         \"num-of-cylinders\", \"engine-size\",\"fuel-system\",\"bore\",\"stroke\",\"compression-ratio\",\"horsepower\",\n",
    "         \"peak-rpm\",\"city-mpg\",\"highway-mpg\",\"price\"]\n",
    "if all(isinstance(col, str) for col in df_cars.columns):\n",
    "    df_cars.columns=headers"
   ],
   "metadata": {
    "collapsed": false,
    "ExecuteTime": {
     "start_time": "2023-04-22T21:42:56.964372Z",
     "end_time": "2023-04-22T21:42:56.973245Z"
    }
   }
  },
  {
   "cell_type": "code",
   "execution_count": 299,
   "outputs": [
    {
     "data": {
      "text/plain": "   symboling normalized-losses         make fuel-type aspiration num-of-doors  \\\n0          3                 ?  alfa-romero       gas        std          two   \n1          1                 ?  alfa-romero       gas        std          two   \n2          2               164         audi       gas        std         four   \n3          2               164         audi       gas        std         four   \n4          2                 ?         audi       gas        std          two   \n\n    body-style drive-wheels engine-location  wheel-base  ...  engine-size  \\\n0  convertible          rwd           front        88.6  ...          130   \n1    hatchback          rwd           front        94.5  ...          152   \n2        sedan          fwd           front        99.8  ...          109   \n3        sedan          4wd           front        99.4  ...          136   \n4        sedan          fwd           front        99.8  ...          136   \n\n   fuel-system  bore  stroke compression-ratio horsepower  peak-rpm city-mpg  \\\n0         mpfi  3.47    2.68               9.0        111      5000       21   \n1         mpfi  2.68    3.47               9.0        154      5000       19   \n2         mpfi  3.19    3.40              10.0        102      5500       24   \n3         mpfi  3.19    3.40               8.0        115      5500       18   \n4         mpfi  3.19    3.40               8.5        110      5500       19   \n\n  highway-mpg  price  \n0          27  16500  \n1          26  16500  \n2          30  13950  \n3          22  17450  \n4          25  15250  \n\n[5 rows x 26 columns]",
      "text/html": "<div>\n<style scoped>\n    .dataframe tbody tr th:only-of-type {\n        vertical-align: middle;\n    }\n\n    .dataframe tbody tr th {\n        vertical-align: top;\n    }\n\n    .dataframe thead th {\n        text-align: right;\n    }\n</style>\n<table border=\"1\" class=\"dataframe\">\n  <thead>\n    <tr style=\"text-align: right;\">\n      <th></th>\n      <th>symboling</th>\n      <th>normalized-losses</th>\n      <th>make</th>\n      <th>fuel-type</th>\n      <th>aspiration</th>\n      <th>num-of-doors</th>\n      <th>body-style</th>\n      <th>drive-wheels</th>\n      <th>engine-location</th>\n      <th>wheel-base</th>\n      <th>...</th>\n      <th>engine-size</th>\n      <th>fuel-system</th>\n      <th>bore</th>\n      <th>stroke</th>\n      <th>compression-ratio</th>\n      <th>horsepower</th>\n      <th>peak-rpm</th>\n      <th>city-mpg</th>\n      <th>highway-mpg</th>\n      <th>price</th>\n    </tr>\n  </thead>\n  <tbody>\n    <tr>\n      <th>0</th>\n      <td>3</td>\n      <td>?</td>\n      <td>alfa-romero</td>\n      <td>gas</td>\n      <td>std</td>\n      <td>two</td>\n      <td>convertible</td>\n      <td>rwd</td>\n      <td>front</td>\n      <td>88.6</td>\n      <td>...</td>\n      <td>130</td>\n      <td>mpfi</td>\n      <td>3.47</td>\n      <td>2.68</td>\n      <td>9.0</td>\n      <td>111</td>\n      <td>5000</td>\n      <td>21</td>\n      <td>27</td>\n      <td>16500</td>\n    </tr>\n    <tr>\n      <th>1</th>\n      <td>1</td>\n      <td>?</td>\n      <td>alfa-romero</td>\n      <td>gas</td>\n      <td>std</td>\n      <td>two</td>\n      <td>hatchback</td>\n      <td>rwd</td>\n      <td>front</td>\n      <td>94.5</td>\n      <td>...</td>\n      <td>152</td>\n      <td>mpfi</td>\n      <td>2.68</td>\n      <td>3.47</td>\n      <td>9.0</td>\n      <td>154</td>\n      <td>5000</td>\n      <td>19</td>\n      <td>26</td>\n      <td>16500</td>\n    </tr>\n    <tr>\n      <th>2</th>\n      <td>2</td>\n      <td>164</td>\n      <td>audi</td>\n      <td>gas</td>\n      <td>std</td>\n      <td>four</td>\n      <td>sedan</td>\n      <td>fwd</td>\n      <td>front</td>\n      <td>99.8</td>\n      <td>...</td>\n      <td>109</td>\n      <td>mpfi</td>\n      <td>3.19</td>\n      <td>3.40</td>\n      <td>10.0</td>\n      <td>102</td>\n      <td>5500</td>\n      <td>24</td>\n      <td>30</td>\n      <td>13950</td>\n    </tr>\n    <tr>\n      <th>3</th>\n      <td>2</td>\n      <td>164</td>\n      <td>audi</td>\n      <td>gas</td>\n      <td>std</td>\n      <td>four</td>\n      <td>sedan</td>\n      <td>4wd</td>\n      <td>front</td>\n      <td>99.4</td>\n      <td>...</td>\n      <td>136</td>\n      <td>mpfi</td>\n      <td>3.19</td>\n      <td>3.40</td>\n      <td>8.0</td>\n      <td>115</td>\n      <td>5500</td>\n      <td>18</td>\n      <td>22</td>\n      <td>17450</td>\n    </tr>\n    <tr>\n      <th>4</th>\n      <td>2</td>\n      <td>?</td>\n      <td>audi</td>\n      <td>gas</td>\n      <td>std</td>\n      <td>two</td>\n      <td>sedan</td>\n      <td>fwd</td>\n      <td>front</td>\n      <td>99.8</td>\n      <td>...</td>\n      <td>136</td>\n      <td>mpfi</td>\n      <td>3.19</td>\n      <td>3.40</td>\n      <td>8.5</td>\n      <td>110</td>\n      <td>5500</td>\n      <td>19</td>\n      <td>25</td>\n      <td>15250</td>\n    </tr>\n  </tbody>\n</table>\n<p>5 rows × 26 columns</p>\n</div>"
     },
     "execution_count": 299,
     "metadata": {},
     "output_type": "execute_result"
    }
   ],
   "source": [
    "df_cars.head()"
   ],
   "metadata": {
    "collapsed": false,
    "ExecuteTime": {
     "start_time": "2023-04-22T21:43:19.836671Z",
     "end_time": "2023-04-22T21:43:19.846221Z"
    }
   }
  },
  {
   "cell_type": "code",
   "execution_count": 291,
   "outputs": [],
   "source": [
    "df_cars.replace('?', np.nan, inplace=True)"
   ],
   "metadata": {
    "collapsed": false,
    "ExecuteTime": {
     "start_time": "2023-04-22T21:24:25.217374Z",
     "end_time": "2023-04-22T21:24:25.241296Z"
    }
   }
  },
  {
   "cell_type": "code",
   "execution_count": 292,
   "outputs": [],
   "source": [
    "number_list = ['normalized-losses', 'price', 'symboling', 'city-mpg', 'engine-size', 'curb-weight', 'highway-mpg', 'compression-ratio','width', 'length', 'wheel-base', 'height', 'stroke', 'bore', 'peak-rpm', 'horsepower']\n",
    "#df_cars_num = df_cars[nums]\n"
   ],
   "metadata": {
    "collapsed": false,
    "ExecuteTime": {
     "start_time": "2023-04-22T21:24:26.923995Z",
     "end_time": "2023-04-22T21:24:26.934007Z"
    }
   }
  },
  {
   "cell_type": "code",
   "execution_count": 293,
   "outputs": [],
   "source": [
    "\n",
    "category_list = ['make', 'fuel-type', 'aspiration', 'num-of-doors', 'body-style', 'drive-wheels', 'engine-location', 'fuel-system']\n",
    "#df_cars_cat = df_cars[cats]"
   ],
   "metadata": {
    "collapsed": false,
    "ExecuteTime": {
     "start_time": "2023-04-22T21:24:27.900440Z",
     "end_time": "2023-04-22T21:24:27.915455Z"
    }
   }
  },
  {
   "cell_type": "code",
   "execution_count": 269,
   "outputs": [],
   "source": [
    "num_imputer = SimpleImputer(strategy='mean')\n",
    "cat_imputer = SimpleImputer(strategy='most_frequent')\n"
   ],
   "metadata": {
    "collapsed": false,
    "ExecuteTime": {
     "start_time": "2023-04-22T21:16:31.951349Z",
     "end_time": "2023-04-22T21:16:31.967137Z"
    }
   }
  },
  {
   "cell_type": "code",
   "execution_count": 270,
   "outputs": [],
   "source": [
    "#num_transformer = Pipeline(steps=[('imputer', num_imputer), ('scaler', StandardScaler())])\n",
    "num_transformer = Pipeline(steps=[('imputer', num_imputer), ('scaler', MinMaxScaler(feature_range=(0,1)))])\n",
    "\n",
    "cat_transformer = Pipeline(steps=[('imputer', cat_imputer), ('encoder', OneHotEncoder())])\n"
   ],
   "metadata": {
    "collapsed": false,
    "ExecuteTime": {
     "start_time": "2023-04-22T21:16:32.454658Z",
     "end_time": "2023-04-22T21:16:32.468776Z"
    }
   }
  },
  {
   "cell_type": "code",
   "execution_count": 271,
   "outputs": [],
   "source": [
    "preprocessor = ColumnTransformer(transformers=[('number_columns', num_transformer, number_list),\n",
    "                                                ('category_columns', cat_transformer, category_list)])"
   ],
   "metadata": {
    "collapsed": false,
    "ExecuteTime": {
     "start_time": "2023-04-22T21:16:33.063583Z",
     "end_time": "2023-04-22T21:16:33.076676Z"
    }
   }
  },
  {
   "cell_type": "code",
   "execution_count": 272,
   "outputs": [],
   "source": [
    "pipeline_model = Pipeline(steps=[('preprocessor', preprocessor),\n",
    "                           ('classifier', LinearRegression())])"
   ],
   "metadata": {
    "collapsed": false,
    "ExecuteTime": {
     "start_time": "2023-04-22T21:16:34.250375Z",
     "end_time": "2023-04-22T21:16:34.264295Z"
    }
   }
  },
  {
   "cell_type": "code",
   "execution_count": 273,
   "outputs": [],
   "source": [
    "pipe = Pipeline(steps=[('preprocessor', preprocessor)])"
   ],
   "metadata": {
    "collapsed": false,
    "ExecuteTime": {
     "start_time": "2023-04-22T21:16:35.082936Z",
     "end_time": "2023-04-22T21:16:35.106841Z"
    }
   }
  },
  {
   "cell_type": "code",
   "execution_count": 281,
   "outputs": [],
   "source": [
    "df_preprocessed = pd.DataFrame(pipe.fit_transform(df_cars))"
   ],
   "metadata": {
    "collapsed": false,
    "ExecuteTime": {
     "start_time": "2023-04-22T21:17:57.608238Z",
     "end_time": "2023-04-22T21:17:57.631913Z"
    }
   }
  },
  {
   "cell_type": "code",
   "execution_count": 259,
   "outputs": [
    {
     "data": {
      "text/plain": "           0         1         2         3         4         5         6   \\\n0    0.000000  0.418658  1.760907 -0.648801  0.074632 -0.014602 -0.547796   \n1    0.000000  0.418658  0.142776 -0.954825  0.602943  0.513554 -0.693115   \n2    1.325715  0.094591  0.951842 -0.189765 -0.429665 -0.419841 -0.111839   \n3    1.325715  0.539389  0.951842 -1.107837  0.218717  0.515474 -1.274391   \n4    0.000000  0.259801  0.951842 -0.954825  0.218717 -0.093345 -0.838434   \n..        ...       ...       ...       ...       ...       ...       ...   \n199 -0.852246  0.462502 -1.475354 -0.342777  0.338788  0.761307 -0.402477   \n200 -0.852246  0.742089 -1.475354 -0.954825  0.338788  0.947601 -0.838434   \n201 -0.852246  1.052177 -1.475354 -1.107837  1.107240  0.876541 -1.129072   \n202 -0.852246  1.177356 -1.475354  0.116259  0.434844  1.270256 -0.547796   \n203 -0.852246  1.197054 -1.475354 -0.954825  0.338788  0.972569 -0.838434   \n\n           7         8         9   ...   52   53   54   55   56   57   58  \\\n0   -0.289114 -0.848336 -0.427756  ...  1.0  0.0  0.0  0.0  0.0  0.0  0.0   \n1   -0.289114 -0.194572 -0.233137  ...  1.0  0.0  0.0  0.0  0.0  0.0  0.0   \n2   -0.037303  0.132309  0.204755  ...  1.0  0.0  0.0  0.0  0.0  0.0  0.0   \n3   -0.540925  0.225704  0.204755  ...  1.0  0.0  0.0  0.0  0.0  0.0  0.0   \n4   -0.415019  0.179007  0.261519  ...  1.0  0.0  0.0  0.0  0.0  0.0  0.0   \n..        ...       ...       ...  ...  ...  ...  ...  ...  ...  ...  ...   \n199 -0.163208  1.393138  1.194069  ...  1.0  0.0  0.0  0.0  0.0  0.0  0.0   \n200 -0.364657  1.346441  1.194069  ...  1.0  0.0  0.0  0.0  0.0  0.0  0.0   \n201 -0.339476  1.393138  1.194069  ...  1.0  0.0  0.0  0.0  0.0  0.0  0.0   \n202  3.236242  1.393138  1.194069  ...  1.0  0.0  0.0  0.0  0.0  1.0  0.0   \n203 -0.163208  1.393138  1.194069  ...  1.0  0.0  0.0  0.0  0.0  0.0  0.0   \n\n      59   60   61  \n0    1.0  0.0  0.0  \n1    1.0  0.0  0.0  \n2    1.0  0.0  0.0  \n3    1.0  0.0  0.0  \n4    1.0  0.0  0.0  \n..   ...  ...  ...  \n199  1.0  0.0  0.0  \n200  1.0  0.0  0.0  \n201  1.0  0.0  0.0  \n202  0.0  0.0  0.0  \n203  1.0  0.0  0.0  \n\n[204 rows x 62 columns]",
      "text/html": "<div>\n<style scoped>\n    .dataframe tbody tr th:only-of-type {\n        vertical-align: middle;\n    }\n\n    .dataframe tbody tr th {\n        vertical-align: top;\n    }\n\n    .dataframe thead th {\n        text-align: right;\n    }\n</style>\n<table border=\"1\" class=\"dataframe\">\n  <thead>\n    <tr style=\"text-align: right;\">\n      <th></th>\n      <th>0</th>\n      <th>1</th>\n      <th>2</th>\n      <th>3</th>\n      <th>4</th>\n      <th>5</th>\n      <th>6</th>\n      <th>7</th>\n      <th>8</th>\n      <th>9</th>\n      <th>...</th>\n      <th>52</th>\n      <th>53</th>\n      <th>54</th>\n      <th>55</th>\n      <th>56</th>\n      <th>57</th>\n      <th>58</th>\n      <th>59</th>\n      <th>60</th>\n      <th>61</th>\n    </tr>\n  </thead>\n  <tbody>\n    <tr>\n      <th>0</th>\n      <td>0.000000</td>\n      <td>0.418658</td>\n      <td>1.760907</td>\n      <td>-0.648801</td>\n      <td>0.074632</td>\n      <td>-0.014602</td>\n      <td>-0.547796</td>\n      <td>-0.289114</td>\n      <td>-0.848336</td>\n      <td>-0.427756</td>\n      <td>...</td>\n      <td>1.0</td>\n      <td>0.0</td>\n      <td>0.0</td>\n      <td>0.0</td>\n      <td>0.0</td>\n      <td>0.0</td>\n      <td>0.0</td>\n      <td>1.0</td>\n      <td>0.0</td>\n      <td>0.0</td>\n    </tr>\n    <tr>\n      <th>1</th>\n      <td>0.000000</td>\n      <td>0.418658</td>\n      <td>0.142776</td>\n      <td>-0.954825</td>\n      <td>0.602943</td>\n      <td>0.513554</td>\n      <td>-0.693115</td>\n      <td>-0.289114</td>\n      <td>-0.194572</td>\n      <td>-0.233137</td>\n      <td>...</td>\n      <td>1.0</td>\n      <td>0.0</td>\n      <td>0.0</td>\n      <td>0.0</td>\n      <td>0.0</td>\n      <td>0.0</td>\n      <td>0.0</td>\n      <td>1.0</td>\n      <td>0.0</td>\n      <td>0.0</td>\n    </tr>\n    <tr>\n      <th>2</th>\n      <td>1.325715</td>\n      <td>0.094591</td>\n      <td>0.951842</td>\n      <td>-0.189765</td>\n      <td>-0.429665</td>\n      <td>-0.419841</td>\n      <td>-0.111839</td>\n      <td>-0.037303</td>\n      <td>0.132309</td>\n      <td>0.204755</td>\n      <td>...</td>\n      <td>1.0</td>\n      <td>0.0</td>\n      <td>0.0</td>\n      <td>0.0</td>\n      <td>0.0</td>\n      <td>0.0</td>\n      <td>0.0</td>\n      <td>1.0</td>\n      <td>0.0</td>\n      <td>0.0</td>\n    </tr>\n    <tr>\n      <th>3</th>\n      <td>1.325715</td>\n      <td>0.539389</td>\n      <td>0.951842</td>\n      <td>-1.107837</td>\n      <td>0.218717</td>\n      <td>0.515474</td>\n      <td>-1.274391</td>\n      <td>-0.540925</td>\n      <td>0.225704</td>\n      <td>0.204755</td>\n      <td>...</td>\n      <td>1.0</td>\n      <td>0.0</td>\n      <td>0.0</td>\n      <td>0.0</td>\n      <td>0.0</td>\n      <td>0.0</td>\n      <td>0.0</td>\n      <td>1.0</td>\n      <td>0.0</td>\n      <td>0.0</td>\n    </tr>\n    <tr>\n      <th>4</th>\n      <td>0.000000</td>\n      <td>0.259801</td>\n      <td>0.951842</td>\n      <td>-0.954825</td>\n      <td>0.218717</td>\n      <td>-0.093345</td>\n      <td>-0.838434</td>\n      <td>-0.415019</td>\n      <td>0.179007</td>\n      <td>0.261519</td>\n      <td>...</td>\n      <td>1.0</td>\n      <td>0.0</td>\n      <td>0.0</td>\n      <td>0.0</td>\n      <td>0.0</td>\n      <td>0.0</td>\n      <td>0.0</td>\n      <td>1.0</td>\n      <td>0.0</td>\n      <td>0.0</td>\n    </tr>\n    <tr>\n      <th>...</th>\n      <td>...</td>\n      <td>...</td>\n      <td>...</td>\n      <td>...</td>\n      <td>...</td>\n      <td>...</td>\n      <td>...</td>\n      <td>...</td>\n      <td>...</td>\n      <td>...</td>\n      <td>...</td>\n      <td>...</td>\n      <td>...</td>\n      <td>...</td>\n      <td>...</td>\n      <td>...</td>\n      <td>...</td>\n      <td>...</td>\n      <td>...</td>\n      <td>...</td>\n      <td>...</td>\n    </tr>\n    <tr>\n      <th>199</th>\n      <td>-0.852246</td>\n      <td>0.462502</td>\n      <td>-1.475354</td>\n      <td>-0.342777</td>\n      <td>0.338788</td>\n      <td>0.761307</td>\n      <td>-0.402477</td>\n      <td>-0.163208</td>\n      <td>1.393138</td>\n      <td>1.194069</td>\n      <td>...</td>\n      <td>1.0</td>\n      <td>0.0</td>\n      <td>0.0</td>\n      <td>0.0</td>\n      <td>0.0</td>\n      <td>0.0</td>\n      <td>0.0</td>\n      <td>1.0</td>\n      <td>0.0</td>\n      <td>0.0</td>\n    </tr>\n    <tr>\n      <th>200</th>\n      <td>-0.852246</td>\n      <td>0.742089</td>\n      <td>-1.475354</td>\n      <td>-0.954825</td>\n      <td>0.338788</td>\n      <td>0.947601</td>\n      <td>-0.838434</td>\n      <td>-0.364657</td>\n      <td>1.346441</td>\n      <td>1.194069</td>\n      <td>...</td>\n      <td>1.0</td>\n      <td>0.0</td>\n      <td>0.0</td>\n      <td>0.0</td>\n      <td>0.0</td>\n      <td>0.0</td>\n      <td>0.0</td>\n      <td>1.0</td>\n      <td>0.0</td>\n      <td>0.0</td>\n    </tr>\n    <tr>\n      <th>201</th>\n      <td>-0.852246</td>\n      <td>1.052177</td>\n      <td>-1.475354</td>\n      <td>-1.107837</td>\n      <td>1.107240</td>\n      <td>0.876541</td>\n      <td>-1.129072</td>\n      <td>-0.339476</td>\n      <td>1.393138</td>\n      <td>1.194069</td>\n      <td>...</td>\n      <td>1.0</td>\n      <td>0.0</td>\n      <td>0.0</td>\n      <td>0.0</td>\n      <td>0.0</td>\n      <td>0.0</td>\n      <td>0.0</td>\n      <td>1.0</td>\n      <td>0.0</td>\n      <td>0.0</td>\n    </tr>\n    <tr>\n      <th>202</th>\n      <td>-0.852246</td>\n      <td>1.177356</td>\n      <td>-1.475354</td>\n      <td>0.116259</td>\n      <td>0.434844</td>\n      <td>1.270256</td>\n      <td>-0.547796</td>\n      <td>3.236242</td>\n      <td>1.393138</td>\n      <td>1.194069</td>\n      <td>...</td>\n      <td>1.0</td>\n      <td>0.0</td>\n      <td>0.0</td>\n      <td>0.0</td>\n      <td>0.0</td>\n      <td>1.0</td>\n      <td>0.0</td>\n      <td>0.0</td>\n      <td>0.0</td>\n      <td>0.0</td>\n    </tr>\n    <tr>\n      <th>203</th>\n      <td>-0.852246</td>\n      <td>1.197054</td>\n      <td>-1.475354</td>\n      <td>-0.954825</td>\n      <td>0.338788</td>\n      <td>0.972569</td>\n      <td>-0.838434</td>\n      <td>-0.163208</td>\n      <td>1.393138</td>\n      <td>1.194069</td>\n      <td>...</td>\n      <td>1.0</td>\n      <td>0.0</td>\n      <td>0.0</td>\n      <td>0.0</td>\n      <td>0.0</td>\n      <td>0.0</td>\n      <td>0.0</td>\n      <td>1.0</td>\n      <td>0.0</td>\n      <td>0.0</td>\n    </tr>\n  </tbody>\n</table>\n<p>204 rows × 62 columns</p>\n</div>"
     },
     "execution_count": 259,
     "metadata": {},
     "output_type": "execute_result"
    }
   ],
   "source": [
    "df_preprocessed"
   ],
   "metadata": {
    "collapsed": false,
    "ExecuteTime": {
     "start_time": "2023-04-22T21:12:20.618148Z",
     "end_time": "2023-04-22T21:12:20.657742Z"
    }
   }
  },
  {
   "cell_type": "code",
   "execution_count": 250,
   "outputs": [
    {
     "name": "stdout",
     "output_type": "stream",
     "text": [
      "symboling\n",
      "False    204\n",
      "Name: symboling, dtype: int64\n",
      "\n",
      "normalized-losses\n",
      "False    164\n",
      "True      40\n",
      "Name: normalized-losses, dtype: int64\n",
      "\n",
      "make\n",
      "False    204\n",
      "Name: make, dtype: int64\n",
      "\n",
      "fuel-type\n",
      "False    204\n",
      "Name: fuel-type, dtype: int64\n",
      "\n",
      "aspiration\n",
      "False    204\n",
      "Name: aspiration, dtype: int64\n",
      "\n",
      "num-of-doors\n",
      "False    202\n",
      "True       2\n",
      "Name: num-of-doors, dtype: int64\n",
      "\n",
      "body-style\n",
      "False    204\n",
      "Name: body-style, dtype: int64\n",
      "\n",
      "drive-wheels\n",
      "False    204\n",
      "Name: drive-wheels, dtype: int64\n",
      "\n",
      "engine-location\n",
      "False    204\n",
      "Name: engine-location, dtype: int64\n",
      "\n",
      "wheel-base\n",
      "False    204\n",
      "Name: wheel-base, dtype: int64\n",
      "\n",
      "length\n",
      "False    204\n",
      "Name: length, dtype: int64\n",
      "\n",
      "width\n",
      "False    204\n",
      "Name: width, dtype: int64\n",
      "\n",
      "height\n",
      "False    204\n",
      "Name: height, dtype: int64\n",
      "\n",
      "curb-weight\n",
      "False    204\n",
      "Name: curb-weight, dtype: int64\n",
      "\n",
      "engine-type\n",
      "False    204\n",
      "Name: engine-type, dtype: int64\n",
      "\n",
      "num-of-cylinders\n",
      "False    204\n",
      "Name: num-of-cylinders, dtype: int64\n",
      "\n",
      "engine-size\n",
      "False    204\n",
      "Name: engine-size, dtype: int64\n",
      "\n",
      "fuel-system\n",
      "False    204\n",
      "Name: fuel-system, dtype: int64\n",
      "\n",
      "bore\n",
      "False    200\n",
      "True       4\n",
      "Name: bore, dtype: int64\n",
      "\n",
      "stroke\n",
      "False    200\n",
      "True       4\n",
      "Name: stroke, dtype: int64\n",
      "\n",
      "compression-ratio\n",
      "False    204\n",
      "Name: compression-ratio, dtype: int64\n",
      "\n",
      "horsepower\n",
      "False    202\n",
      "True       2\n",
      "Name: horsepower, dtype: int64\n",
      "\n",
      "peak-rpm\n",
      "False    202\n",
      "True       2\n",
      "Name: peak-rpm, dtype: int64\n",
      "\n",
      "city-mpg\n",
      "False    204\n",
      "Name: city-mpg, dtype: int64\n",
      "\n",
      "highway-mpg\n",
      "False    204\n",
      "Name: highway-mpg, dtype: int64\n",
      "\n",
      "price\n",
      "False    200\n",
      "True       4\n",
      "Name: price, dtype: int64\n",
      "\n"
     ]
    }
   ],
   "source": [
    "df_cars_num_null = df_cars.isnull()\n",
    "for column in df_cars_num_null:\n",
    "    print(column)\n",
    "    print(df_cars_num_null[column].value_counts())\n",
    "    print(\"\")"
   ],
   "metadata": {
    "collapsed": false,
    "ExecuteTime": {
     "start_time": "2023-04-22T21:06:18.085515Z",
     "end_time": "2023-04-22T21:06:18.093716Z"
    }
   }
  },
  {
   "cell_type": "code",
   "execution_count": 283,
   "outputs": [
    {
     "data": {
      "text/plain": "          0         1    2         3         4         5         6         7   \\\n0   0.298429  0.282558  1.0  0.222222  0.260377  0.411171  0.289474  0.125000   \n1   0.298429  0.282558  0.6  0.166667  0.343396  0.517843  0.263158  0.125000   \n2   0.518325  0.219254  0.8  0.305556  0.181132  0.329325  0.368421  0.187500   \n3   0.518325  0.306142  0.8  0.138889  0.283019  0.518231  0.157895  0.062500   \n4   0.298429  0.251527  0.8  0.166667  0.283019  0.395268  0.236842  0.093750   \n5   0.486911  0.312596  0.6  0.166667  0.283019  0.525989  0.236842  0.093750   \n6   0.298429  0.342634  0.6  0.166667  0.283019  0.568658  0.236842  0.093750   \n7   0.486911  0.465642  0.6  0.111111  0.264151  0.619860  0.105263  0.081250   \n8   0.298429  0.200777  0.4  0.083333  0.264151  0.607060  0.157895  0.000000   \n9   0.664921  0.280820  0.8  0.277778  0.177358  0.351823  0.342105  0.112500   \n10  0.664921  0.293109  0.4  0.277778  0.177358  0.351823  0.342105  0.112500   \n11  0.643979  0.393526  0.4  0.222222  0.388679  0.474011  0.315789  0.125000   \n12  0.643979  0.396877  0.4  0.222222  0.388679  0.495345  0.315789  0.125000   \n13  0.298429  0.482771  0.6  0.194444  0.388679  0.607836  0.236842  0.125000   \n14  0.298429  0.636562  0.4  0.083333  0.558491  0.675718  0.157895  0.062500   \n15  0.298429  0.898590  0.4  0.083333  0.558491  0.733902  0.157895  0.062500   \n16  0.298429  0.788491  0.4  0.055556  0.558491  0.782389  0.105263  0.062500   \n17  0.293194  0.000819  0.8  0.944444  0.000000  0.000000  0.973684  0.156250   \n18  0.172775  0.029219  0.6  0.694444  0.109434  0.149728  0.710526  0.162500   \n19  0.083770  0.036170  0.4  0.694444  0.109434  0.163305  0.710526  0.162500   \n20  0.277487  0.011271  0.6  0.666667  0.109434  0.150504  0.657895  0.150625   \n21  0.277487  0.031255  0.6  0.500000  0.109434  0.150504  0.578947  0.150000   \n22  0.277487  0.070478  0.6  0.305556  0.139623  0.248254  0.368421  0.037500   \n23  0.434555  0.027581  0.6  0.500000  0.109434  0.185803  0.578947  0.150000   \n24  0.434555  0.039075  0.6  0.500000  0.109434  0.194337  0.578947  0.150000   \n25  0.434555  0.061839  0.6  0.500000  0.109434  0.194337  0.578947  0.150000   \n26  0.434555  0.085398  0.6  0.305556  0.139623  0.272692  0.368421  0.037500   \n27  0.235602  0.094409  0.2  0.305556  0.230189  0.406129  0.368421  0.093750   \n28  0.418848  0.194777  1.0  0.166667  0.358491  0.513189  0.210526  0.000000   \n29  0.376963  0.033787  0.8  1.000000  0.116981  0.087277  1.000000  0.162500   \n30  0.376963  0.043121  0.8  0.500000  0.116981  0.128394  0.578947  0.137500   \n31  0.188482  0.006976  0.6  0.694444  0.067925  0.135376  0.684211  0.193750   \n32  0.188482  0.035028  0.6  0.472222  0.116981  0.175330  0.473684  0.137500   \n33  0.188482  0.049923  0.6  0.472222  0.116981  0.181536  0.473684  0.137500   \n34  0.235602  0.054044  0.4  0.472222  0.116981  0.202483  0.473684  0.137500   \n35  0.068063  0.054044  0.4  0.472222  0.116981  0.207913  0.473684  0.137500   \n36  0.214660  0.068939  0.4  0.388889  0.184906  0.290147  0.447368  0.125000   \n37  0.214660  0.098729  0.4  0.388889  0.184906  0.310706  0.447368  0.125000   \n38  0.104712  0.092523  0.4  0.388889  0.184906  0.316524  0.447368  0.125000   \n39  0.104712  0.128519  0.4  0.388889  0.184906  0.342901  0.447368  0.125000   \n40  0.104712  0.194305  0.4  0.305556  0.184906  0.378976  0.315789  0.125000   \n41  0.219895  0.129760  0.6  0.333333  0.184906  0.312258  0.394737  0.131250   \n42  0.298429  0.041383  0.4  0.305556  0.188679  0.329325  0.342105  0.093750   \n43  0.298429  0.200777  0.6  0.694444  0.109434  0.149728  0.710526  0.162500   \n44  0.298429  0.200777  0.4  0.694444  0.109434  0.163305  0.710526  0.162500   \n45  0.298429  0.147212  0.8  0.305556  0.218868  0.483320  0.342105  0.137500   \n46  0.418848  0.673551  0.4  0.055556  0.743396  1.000000  0.078947  0.068750   \n47  0.298429  0.755474  0.4  0.055556  0.743396  1.000000  0.078947  0.068750   \n48  0.298429  0.766645  0.4  0.000000  1.000000  0.955004  0.026316  0.281250   \n49  0.204188  0.001912  0.6  0.472222  0.113208  0.155935  0.394737  0.125000   \n\n          8         9   ...   52   53   54   55   56   57   58   59   60   61  \n0   0.316667  0.413433  ...  1.0  0.0  0.0  0.0  0.0  0.0  0.0  1.0  0.0  0.0  \n1   0.433333  0.449254  ...  1.0  0.0  0.0  0.0  0.0  0.0  0.0  1.0  0.0  0.0  \n2   0.491667  0.529851  ...  1.0  0.0  0.0  0.0  0.0  0.0  0.0  1.0  0.0  0.0  \n3   0.508333  0.529851  ...  1.0  0.0  0.0  0.0  0.0  0.0  0.0  1.0  0.0  0.0  \n4   0.500000  0.540299  ...  1.0  0.0  0.0  0.0  0.0  0.0  0.0  1.0  0.0  0.0  \n5   0.925000  0.770149  ...  1.0  0.0  0.0  0.0  0.0  0.0  0.0  1.0  0.0  0.0  \n6   0.925000  0.770149  ...  1.0  0.0  0.0  0.0  0.0  0.0  0.0  1.0  0.0  0.0  \n7   0.925000  0.770149  ...  1.0  0.0  0.0  0.0  0.0  0.0  0.0  1.0  0.0  0.0  \n8   0.633333  0.553731  ...  1.0  0.0  0.0  0.0  0.0  0.0  0.0  1.0  0.0  0.0  \n9   0.375000  0.532836  ...  1.0  0.0  0.0  0.0  0.0  0.0  0.0  1.0  0.0  0.0  \n10  0.375000  0.532836  ...  1.0  0.0  0.0  0.0  0.0  0.0  0.0  1.0  0.0  0.0  \n11  0.375000  0.532836  ...  1.0  0.0  0.0  0.0  0.0  0.0  0.0  1.0  0.0  0.0  \n12  0.375000  0.532836  ...  1.0  0.0  0.0  0.0  0.0  0.0  0.0  1.0  0.0  0.0  \n13  0.550000  0.714925  ...  1.0  0.0  0.0  0.0  0.0  0.0  0.0  1.0  0.0  0.0  \n14  0.550000  0.714925  ...  1.0  0.0  0.0  0.0  0.0  0.0  0.0  1.0  0.0  0.0  \n15  0.633333  0.786567  ...  1.0  0.0  0.0  0.0  0.0  0.0  0.0  1.0  0.0  0.0  \n16  0.883333  0.834328  ...  1.0  0.0  0.0  0.0  0.0  0.0  0.0  1.0  0.0  0.0  \n17  0.000000  0.000000  ...  1.0  0.0  0.0  1.0  0.0  0.0  0.0  0.0  0.0  0.0  \n18  0.275000  0.220896  ...  1.0  0.0  0.0  1.0  0.0  0.0  0.0  0.0  0.0  0.0  \n19  0.275000  0.264179  ...  1.0  0.0  0.0  1.0  0.0  0.0  0.0  0.0  0.0  0.0  \n20  0.291667  0.241791  ...  1.0  0.0  0.0  1.0  0.0  0.0  0.0  0.0  0.0  0.0  \n21  0.291667  0.241791  ...  1.0  0.0  0.0  1.0  0.0  0.0  0.0  0.0  0.0  0.0  \n22  0.291667  0.241791  ...  1.0  0.0  0.0  0.0  0.0  0.0  0.0  1.0  0.0  0.0  \n23  0.291667  0.241791  ...  1.0  0.0  0.0  1.0  0.0  0.0  0.0  0.0  0.0  0.0  \n24  0.291667  0.241791  ...  1.0  0.0  0.0  1.0  0.0  0.0  0.0  0.0  0.0  0.0  \n25  0.291667  0.241791  ...  1.0  0.0  0.0  1.0  0.0  0.0  0.0  0.0  0.0  0.0  \n26  0.291667  0.241791  ...  1.0  0.0  0.0  0.0  0.0  0.0  0.0  1.0  0.0  0.0  \n27  0.358333  0.500000  ...  1.0  0.0  0.0  1.0  0.0  0.0  0.0  0.0  0.0  0.0  \n28  0.500000  0.479104  ...  1.0  0.0  0.0  0.0  0.0  0.0  1.0  0.0  0.0  0.0  \n29  0.300000  0.052239  ...  1.0  0.0  1.0  0.0  0.0  0.0  0.0  0.0  0.0  0.0  \n30  0.300000  0.052239  ...  1.0  0.0  1.0  0.0  0.0  0.0  0.0  0.0  0.0  0.0  \n31  0.308333  0.132836  ...  1.0  0.0  1.0  0.0  0.0  0.0  0.0  0.0  0.0  0.0  \n32  0.308333  0.132836  ...  1.0  0.0  1.0  0.0  0.0  0.0  0.0  0.0  0.0  0.0  \n33  0.308333  0.132836  ...  1.0  0.0  1.0  0.0  0.0  0.0  0.0  0.0  0.0  0.0  \n34  0.308333  0.332836  ...  1.0  0.0  1.0  0.0  0.0  0.0  0.0  0.0  0.0  0.0  \n35  0.300000  0.238806  ...  1.0  0.0  1.0  0.0  0.0  0.0  0.0  0.0  0.0  0.0  \n36  0.408333  0.394030  ...  1.0  0.0  1.0  0.0  0.0  0.0  0.0  0.0  0.0  0.0  \n37  0.408333  0.394030  ...  1.0  0.0  1.0  0.0  0.0  0.0  0.0  0.0  0.0  0.0  \n38  0.408333  0.511940  ...  1.0  0.0  1.0  0.0  0.0  0.0  0.0  0.0  0.0  0.0  \n39  0.183333  0.511940  ...  1.0  0.0  1.0  0.0  0.0  0.0  0.0  0.0  0.0  0.0  \n40  0.408333  0.511940  ...  1.0  0.0  0.0  0.0  0.0  0.0  0.0  1.0  0.0  0.0  \n41  0.475000  0.417910  ...  1.0  0.0  0.0  1.0  0.0  0.0  0.0  0.0  0.0  0.0  \n42  0.125000  0.441791  ...  1.0  0.0  0.0  1.0  0.0  0.0  0.0  0.0  0.0  0.0  \n43  0.275000  0.220896  ...  1.0  0.0  0.0  1.0  0.0  0.0  0.0  0.0  0.0  0.0  \n44  0.275000  0.220896  ...  1.0  0.0  0.0  1.0  0.0  0.0  0.0  0.0  0.0  0.0  \n45  0.408333  0.470149  ...  1.0  0.0  0.0  0.0  0.0  0.0  0.0  0.0  0.0  1.0  \n46  0.775000  0.873134  ...  1.0  0.0  0.0  0.0  0.0  0.0  0.0  1.0  0.0  0.0  \n47  0.775000  0.873134  ...  1.0  0.0  0.0  0.0  0.0  0.0  0.0  1.0  0.0  0.0  \n48  0.858333  0.755224  ...  1.0  0.0  0.0  0.0  0.0  0.0  0.0  1.0  0.0  0.0  \n49  0.325000  0.268657  ...  1.0  0.0  0.0  1.0  0.0  0.0  0.0  0.0  0.0  0.0  \n\n[50 rows x 62 columns]",
      "text/html": "<div>\n<style scoped>\n    .dataframe tbody tr th:only-of-type {\n        vertical-align: middle;\n    }\n\n    .dataframe tbody tr th {\n        vertical-align: top;\n    }\n\n    .dataframe thead th {\n        text-align: right;\n    }\n</style>\n<table border=\"1\" class=\"dataframe\">\n  <thead>\n    <tr style=\"text-align: right;\">\n      <th></th>\n      <th>0</th>\n      <th>1</th>\n      <th>2</th>\n      <th>3</th>\n      <th>4</th>\n      <th>5</th>\n      <th>6</th>\n      <th>7</th>\n      <th>8</th>\n      <th>9</th>\n      <th>...</th>\n      <th>52</th>\n      <th>53</th>\n      <th>54</th>\n      <th>55</th>\n      <th>56</th>\n      <th>57</th>\n      <th>58</th>\n      <th>59</th>\n      <th>60</th>\n      <th>61</th>\n    </tr>\n  </thead>\n  <tbody>\n    <tr>\n      <th>0</th>\n      <td>0.298429</td>\n      <td>0.282558</td>\n      <td>1.0</td>\n      <td>0.222222</td>\n      <td>0.260377</td>\n      <td>0.411171</td>\n      <td>0.289474</td>\n      <td>0.125000</td>\n      <td>0.316667</td>\n      <td>0.413433</td>\n      <td>...</td>\n      <td>1.0</td>\n      <td>0.0</td>\n      <td>0.0</td>\n      <td>0.0</td>\n      <td>0.0</td>\n      <td>0.0</td>\n      <td>0.0</td>\n      <td>1.0</td>\n      <td>0.0</td>\n      <td>0.0</td>\n    </tr>\n    <tr>\n      <th>1</th>\n      <td>0.298429</td>\n      <td>0.282558</td>\n      <td>0.6</td>\n      <td>0.166667</td>\n      <td>0.343396</td>\n      <td>0.517843</td>\n      <td>0.263158</td>\n      <td>0.125000</td>\n      <td>0.433333</td>\n      <td>0.449254</td>\n      <td>...</td>\n      <td>1.0</td>\n      <td>0.0</td>\n      <td>0.0</td>\n      <td>0.0</td>\n      <td>0.0</td>\n      <td>0.0</td>\n      <td>0.0</td>\n      <td>1.0</td>\n      <td>0.0</td>\n      <td>0.0</td>\n    </tr>\n    <tr>\n      <th>2</th>\n      <td>0.518325</td>\n      <td>0.219254</td>\n      <td>0.8</td>\n      <td>0.305556</td>\n      <td>0.181132</td>\n      <td>0.329325</td>\n      <td>0.368421</td>\n      <td>0.187500</td>\n      <td>0.491667</td>\n      <td>0.529851</td>\n      <td>...</td>\n      <td>1.0</td>\n      <td>0.0</td>\n      <td>0.0</td>\n      <td>0.0</td>\n      <td>0.0</td>\n      <td>0.0</td>\n      <td>0.0</td>\n      <td>1.0</td>\n      <td>0.0</td>\n      <td>0.0</td>\n    </tr>\n    <tr>\n      <th>3</th>\n      <td>0.518325</td>\n      <td>0.306142</td>\n      <td>0.8</td>\n      <td>0.138889</td>\n      <td>0.283019</td>\n      <td>0.518231</td>\n      <td>0.157895</td>\n      <td>0.062500</td>\n      <td>0.508333</td>\n      <td>0.529851</td>\n      <td>...</td>\n      <td>1.0</td>\n      <td>0.0</td>\n      <td>0.0</td>\n      <td>0.0</td>\n      <td>0.0</td>\n      <td>0.0</td>\n      <td>0.0</td>\n      <td>1.0</td>\n      <td>0.0</td>\n      <td>0.0</td>\n    </tr>\n    <tr>\n      <th>4</th>\n      <td>0.298429</td>\n      <td>0.251527</td>\n      <td>0.8</td>\n      <td>0.166667</td>\n      <td>0.283019</td>\n      <td>0.395268</td>\n      <td>0.236842</td>\n      <td>0.093750</td>\n      <td>0.500000</td>\n      <td>0.540299</td>\n      <td>...</td>\n      <td>1.0</td>\n      <td>0.0</td>\n      <td>0.0</td>\n      <td>0.0</td>\n      <td>0.0</td>\n      <td>0.0</td>\n      <td>0.0</td>\n      <td>1.0</td>\n      <td>0.0</td>\n      <td>0.0</td>\n    </tr>\n    <tr>\n      <th>5</th>\n      <td>0.486911</td>\n      <td>0.312596</td>\n      <td>0.6</td>\n      <td>0.166667</td>\n      <td>0.283019</td>\n      <td>0.525989</td>\n      <td>0.236842</td>\n      <td>0.093750</td>\n      <td>0.925000</td>\n      <td>0.770149</td>\n      <td>...</td>\n      <td>1.0</td>\n      <td>0.0</td>\n      <td>0.0</td>\n      <td>0.0</td>\n      <td>0.0</td>\n      <td>0.0</td>\n      <td>0.0</td>\n      <td>1.0</td>\n      <td>0.0</td>\n      <td>0.0</td>\n    </tr>\n    <tr>\n      <th>6</th>\n      <td>0.298429</td>\n      <td>0.342634</td>\n      <td>0.6</td>\n      <td>0.166667</td>\n      <td>0.283019</td>\n      <td>0.568658</td>\n      <td>0.236842</td>\n      <td>0.093750</td>\n      <td>0.925000</td>\n      <td>0.770149</td>\n      <td>...</td>\n      <td>1.0</td>\n      <td>0.0</td>\n      <td>0.0</td>\n      <td>0.0</td>\n      <td>0.0</td>\n      <td>0.0</td>\n      <td>0.0</td>\n      <td>1.0</td>\n      <td>0.0</td>\n      <td>0.0</td>\n    </tr>\n    <tr>\n      <th>7</th>\n      <td>0.486911</td>\n      <td>0.465642</td>\n      <td>0.6</td>\n      <td>0.111111</td>\n      <td>0.264151</td>\n      <td>0.619860</td>\n      <td>0.105263</td>\n      <td>0.081250</td>\n      <td>0.925000</td>\n      <td>0.770149</td>\n      <td>...</td>\n      <td>1.0</td>\n      <td>0.0</td>\n      <td>0.0</td>\n      <td>0.0</td>\n      <td>0.0</td>\n      <td>0.0</td>\n      <td>0.0</td>\n      <td>1.0</td>\n      <td>0.0</td>\n      <td>0.0</td>\n    </tr>\n    <tr>\n      <th>8</th>\n      <td>0.298429</td>\n      <td>0.200777</td>\n      <td>0.4</td>\n      <td>0.083333</td>\n      <td>0.264151</td>\n      <td>0.607060</td>\n      <td>0.157895</td>\n      <td>0.000000</td>\n      <td>0.633333</td>\n      <td>0.553731</td>\n      <td>...</td>\n      <td>1.0</td>\n      <td>0.0</td>\n      <td>0.0</td>\n      <td>0.0</td>\n      <td>0.0</td>\n      <td>0.0</td>\n      <td>0.0</td>\n      <td>1.0</td>\n      <td>0.0</td>\n      <td>0.0</td>\n    </tr>\n    <tr>\n      <th>9</th>\n      <td>0.664921</td>\n      <td>0.280820</td>\n      <td>0.8</td>\n      <td>0.277778</td>\n      <td>0.177358</td>\n      <td>0.351823</td>\n      <td>0.342105</td>\n      <td>0.112500</td>\n      <td>0.375000</td>\n      <td>0.532836</td>\n      <td>...</td>\n      <td>1.0</td>\n      <td>0.0</td>\n      <td>0.0</td>\n      <td>0.0</td>\n      <td>0.0</td>\n      <td>0.0</td>\n      <td>0.0</td>\n      <td>1.0</td>\n      <td>0.0</td>\n      <td>0.0</td>\n    </tr>\n    <tr>\n      <th>10</th>\n      <td>0.664921</td>\n      <td>0.293109</td>\n      <td>0.4</td>\n      <td>0.277778</td>\n      <td>0.177358</td>\n      <td>0.351823</td>\n      <td>0.342105</td>\n      <td>0.112500</td>\n      <td>0.375000</td>\n      <td>0.532836</td>\n      <td>...</td>\n      <td>1.0</td>\n      <td>0.0</td>\n      <td>0.0</td>\n      <td>0.0</td>\n      <td>0.0</td>\n      <td>0.0</td>\n      <td>0.0</td>\n      <td>1.0</td>\n      <td>0.0</td>\n      <td>0.0</td>\n    </tr>\n    <tr>\n      <th>11</th>\n      <td>0.643979</td>\n      <td>0.393526</td>\n      <td>0.4</td>\n      <td>0.222222</td>\n      <td>0.388679</td>\n      <td>0.474011</td>\n      <td>0.315789</td>\n      <td>0.125000</td>\n      <td>0.375000</td>\n      <td>0.532836</td>\n      <td>...</td>\n      <td>1.0</td>\n      <td>0.0</td>\n      <td>0.0</td>\n      <td>0.0</td>\n      <td>0.0</td>\n      <td>0.0</td>\n      <td>0.0</td>\n      <td>1.0</td>\n      <td>0.0</td>\n      <td>0.0</td>\n    </tr>\n    <tr>\n      <th>12</th>\n      <td>0.643979</td>\n      <td>0.396877</td>\n      <td>0.4</td>\n      <td>0.222222</td>\n      <td>0.388679</td>\n      <td>0.495345</td>\n      <td>0.315789</td>\n      <td>0.125000</td>\n      <td>0.375000</td>\n      <td>0.532836</td>\n      <td>...</td>\n      <td>1.0</td>\n      <td>0.0</td>\n      <td>0.0</td>\n      <td>0.0</td>\n      <td>0.0</td>\n      <td>0.0</td>\n      <td>0.0</td>\n      <td>1.0</td>\n      <td>0.0</td>\n      <td>0.0</td>\n    </tr>\n    <tr>\n      <th>13</th>\n      <td>0.298429</td>\n      <td>0.482771</td>\n      <td>0.6</td>\n      <td>0.194444</td>\n      <td>0.388679</td>\n      <td>0.607836</td>\n      <td>0.236842</td>\n      <td>0.125000</td>\n      <td>0.550000</td>\n      <td>0.714925</td>\n      <td>...</td>\n      <td>1.0</td>\n      <td>0.0</td>\n      <td>0.0</td>\n      <td>0.0</td>\n      <td>0.0</td>\n      <td>0.0</td>\n      <td>0.0</td>\n      <td>1.0</td>\n      <td>0.0</td>\n      <td>0.0</td>\n    </tr>\n    <tr>\n      <th>14</th>\n      <td>0.298429</td>\n      <td>0.636562</td>\n      <td>0.4</td>\n      <td>0.083333</td>\n      <td>0.558491</td>\n      <td>0.675718</td>\n      <td>0.157895</td>\n      <td>0.062500</td>\n      <td>0.550000</td>\n      <td>0.714925</td>\n      <td>...</td>\n      <td>1.0</td>\n      <td>0.0</td>\n      <td>0.0</td>\n      <td>0.0</td>\n      <td>0.0</td>\n      <td>0.0</td>\n      <td>0.0</td>\n      <td>1.0</td>\n      <td>0.0</td>\n      <td>0.0</td>\n    </tr>\n    <tr>\n      <th>15</th>\n      <td>0.298429</td>\n      <td>0.898590</td>\n      <td>0.4</td>\n      <td>0.083333</td>\n      <td>0.558491</td>\n      <td>0.733902</td>\n      <td>0.157895</td>\n      <td>0.062500</td>\n      <td>0.633333</td>\n      <td>0.786567</td>\n      <td>...</td>\n      <td>1.0</td>\n      <td>0.0</td>\n      <td>0.0</td>\n      <td>0.0</td>\n      <td>0.0</td>\n      <td>0.0</td>\n      <td>0.0</td>\n      <td>1.0</td>\n      <td>0.0</td>\n      <td>0.0</td>\n    </tr>\n    <tr>\n      <th>16</th>\n      <td>0.298429</td>\n      <td>0.788491</td>\n      <td>0.4</td>\n      <td>0.055556</td>\n      <td>0.558491</td>\n      <td>0.782389</td>\n      <td>0.105263</td>\n      <td>0.062500</td>\n      <td>0.883333</td>\n      <td>0.834328</td>\n      <td>...</td>\n      <td>1.0</td>\n      <td>0.0</td>\n      <td>0.0</td>\n      <td>0.0</td>\n      <td>0.0</td>\n      <td>0.0</td>\n      <td>0.0</td>\n      <td>1.0</td>\n      <td>0.0</td>\n      <td>0.0</td>\n    </tr>\n    <tr>\n      <th>17</th>\n      <td>0.293194</td>\n      <td>0.000819</td>\n      <td>0.8</td>\n      <td>0.944444</td>\n      <td>0.000000</td>\n      <td>0.000000</td>\n      <td>0.973684</td>\n      <td>0.156250</td>\n      <td>0.000000</td>\n      <td>0.000000</td>\n      <td>...</td>\n      <td>1.0</td>\n      <td>0.0</td>\n      <td>0.0</td>\n      <td>1.0</td>\n      <td>0.0</td>\n      <td>0.0</td>\n      <td>0.0</td>\n      <td>0.0</td>\n      <td>0.0</td>\n      <td>0.0</td>\n    </tr>\n    <tr>\n      <th>18</th>\n      <td>0.172775</td>\n      <td>0.029219</td>\n      <td>0.6</td>\n      <td>0.694444</td>\n      <td>0.109434</td>\n      <td>0.149728</td>\n      <td>0.710526</td>\n      <td>0.162500</td>\n      <td>0.275000</td>\n      <td>0.220896</td>\n      <td>...</td>\n      <td>1.0</td>\n      <td>0.0</td>\n      <td>0.0</td>\n      <td>1.0</td>\n      <td>0.0</td>\n      <td>0.0</td>\n      <td>0.0</td>\n      <td>0.0</td>\n      <td>0.0</td>\n      <td>0.0</td>\n    </tr>\n    <tr>\n      <th>19</th>\n      <td>0.083770</td>\n      <td>0.036170</td>\n      <td>0.4</td>\n      <td>0.694444</td>\n      <td>0.109434</td>\n      <td>0.163305</td>\n      <td>0.710526</td>\n      <td>0.162500</td>\n      <td>0.275000</td>\n      <td>0.264179</td>\n      <td>...</td>\n      <td>1.0</td>\n      <td>0.0</td>\n      <td>0.0</td>\n      <td>1.0</td>\n      <td>0.0</td>\n      <td>0.0</td>\n      <td>0.0</td>\n      <td>0.0</td>\n      <td>0.0</td>\n      <td>0.0</td>\n    </tr>\n    <tr>\n      <th>20</th>\n      <td>0.277487</td>\n      <td>0.011271</td>\n      <td>0.6</td>\n      <td>0.666667</td>\n      <td>0.109434</td>\n      <td>0.150504</td>\n      <td>0.657895</td>\n      <td>0.150625</td>\n      <td>0.291667</td>\n      <td>0.241791</td>\n      <td>...</td>\n      <td>1.0</td>\n      <td>0.0</td>\n      <td>0.0</td>\n      <td>1.0</td>\n      <td>0.0</td>\n      <td>0.0</td>\n      <td>0.0</td>\n      <td>0.0</td>\n      <td>0.0</td>\n      <td>0.0</td>\n    </tr>\n    <tr>\n      <th>21</th>\n      <td>0.277487</td>\n      <td>0.031255</td>\n      <td>0.6</td>\n      <td>0.500000</td>\n      <td>0.109434</td>\n      <td>0.150504</td>\n      <td>0.578947</td>\n      <td>0.150000</td>\n      <td>0.291667</td>\n      <td>0.241791</td>\n      <td>...</td>\n      <td>1.0</td>\n      <td>0.0</td>\n      <td>0.0</td>\n      <td>1.0</td>\n      <td>0.0</td>\n      <td>0.0</td>\n      <td>0.0</td>\n      <td>0.0</td>\n      <td>0.0</td>\n      <td>0.0</td>\n    </tr>\n    <tr>\n      <th>22</th>\n      <td>0.277487</td>\n      <td>0.070478</td>\n      <td>0.6</td>\n      <td>0.305556</td>\n      <td>0.139623</td>\n      <td>0.248254</td>\n      <td>0.368421</td>\n      <td>0.037500</td>\n      <td>0.291667</td>\n      <td>0.241791</td>\n      <td>...</td>\n      <td>1.0</td>\n      <td>0.0</td>\n      <td>0.0</td>\n      <td>0.0</td>\n      <td>0.0</td>\n      <td>0.0</td>\n      <td>0.0</td>\n      <td>1.0</td>\n      <td>0.0</td>\n      <td>0.0</td>\n    </tr>\n    <tr>\n      <th>23</th>\n      <td>0.434555</td>\n      <td>0.027581</td>\n      <td>0.6</td>\n      <td>0.500000</td>\n      <td>0.109434</td>\n      <td>0.185803</td>\n      <td>0.578947</td>\n      <td>0.150000</td>\n      <td>0.291667</td>\n      <td>0.241791</td>\n      <td>...</td>\n      <td>1.0</td>\n      <td>0.0</td>\n      <td>0.0</td>\n      <td>1.0</td>\n      <td>0.0</td>\n      <td>0.0</td>\n      <td>0.0</td>\n      <td>0.0</td>\n      <td>0.0</td>\n      <td>0.0</td>\n    </tr>\n    <tr>\n      <th>24</th>\n      <td>0.434555</td>\n      <td>0.039075</td>\n      <td>0.6</td>\n      <td>0.500000</td>\n      <td>0.109434</td>\n      <td>0.194337</td>\n      <td>0.578947</td>\n      <td>0.150000</td>\n      <td>0.291667</td>\n      <td>0.241791</td>\n      <td>...</td>\n      <td>1.0</td>\n      <td>0.0</td>\n      <td>0.0</td>\n      <td>1.0</td>\n      <td>0.0</td>\n      <td>0.0</td>\n      <td>0.0</td>\n      <td>0.0</td>\n      <td>0.0</td>\n      <td>0.0</td>\n    </tr>\n    <tr>\n      <th>25</th>\n      <td>0.434555</td>\n      <td>0.061839</td>\n      <td>0.6</td>\n      <td>0.500000</td>\n      <td>0.109434</td>\n      <td>0.194337</td>\n      <td>0.578947</td>\n      <td>0.150000</td>\n      <td>0.291667</td>\n      <td>0.241791</td>\n      <td>...</td>\n      <td>1.0</td>\n      <td>0.0</td>\n      <td>0.0</td>\n      <td>1.0</td>\n      <td>0.0</td>\n      <td>0.0</td>\n      <td>0.0</td>\n      <td>0.0</td>\n      <td>0.0</td>\n      <td>0.0</td>\n    </tr>\n    <tr>\n      <th>26</th>\n      <td>0.434555</td>\n      <td>0.085398</td>\n      <td>0.6</td>\n      <td>0.305556</td>\n      <td>0.139623</td>\n      <td>0.272692</td>\n      <td>0.368421</td>\n      <td>0.037500</td>\n      <td>0.291667</td>\n      <td>0.241791</td>\n      <td>...</td>\n      <td>1.0</td>\n      <td>0.0</td>\n      <td>0.0</td>\n      <td>0.0</td>\n      <td>0.0</td>\n      <td>0.0</td>\n      <td>0.0</td>\n      <td>1.0</td>\n      <td>0.0</td>\n      <td>0.0</td>\n    </tr>\n    <tr>\n      <th>27</th>\n      <td>0.235602</td>\n      <td>0.094409</td>\n      <td>0.2</td>\n      <td>0.305556</td>\n      <td>0.230189</td>\n      <td>0.406129</td>\n      <td>0.368421</td>\n      <td>0.093750</td>\n      <td>0.358333</td>\n      <td>0.500000</td>\n      <td>...</td>\n      <td>1.0</td>\n      <td>0.0</td>\n      <td>0.0</td>\n      <td>1.0</td>\n      <td>0.0</td>\n      <td>0.0</td>\n      <td>0.0</td>\n      <td>0.0</td>\n      <td>0.0</td>\n      <td>0.0</td>\n    </tr>\n    <tr>\n      <th>28</th>\n      <td>0.418848</td>\n      <td>0.194777</td>\n      <td>1.0</td>\n      <td>0.166667</td>\n      <td>0.358491</td>\n      <td>0.513189</td>\n      <td>0.210526</td>\n      <td>0.000000</td>\n      <td>0.500000</td>\n      <td>0.479104</td>\n      <td>...</td>\n      <td>1.0</td>\n      <td>0.0</td>\n      <td>0.0</td>\n      <td>0.0</td>\n      <td>0.0</td>\n      <td>0.0</td>\n      <td>1.0</td>\n      <td>0.0</td>\n      <td>0.0</td>\n      <td>0.0</td>\n    </tr>\n    <tr>\n      <th>29</th>\n      <td>0.376963</td>\n      <td>0.033787</td>\n      <td>0.8</td>\n      <td>1.000000</td>\n      <td>0.116981</td>\n      <td>0.087277</td>\n      <td>1.000000</td>\n      <td>0.162500</td>\n      <td>0.300000</td>\n      <td>0.052239</td>\n      <td>...</td>\n      <td>1.0</td>\n      <td>0.0</td>\n      <td>1.0</td>\n      <td>0.0</td>\n      <td>0.0</td>\n      <td>0.0</td>\n      <td>0.0</td>\n      <td>0.0</td>\n      <td>0.0</td>\n      <td>0.0</td>\n    </tr>\n    <tr>\n      <th>30</th>\n      <td>0.376963</td>\n      <td>0.043121</td>\n      <td>0.8</td>\n      <td>0.500000</td>\n      <td>0.116981</td>\n      <td>0.128394</td>\n      <td>0.578947</td>\n      <td>0.137500</td>\n      <td>0.300000</td>\n      <td>0.052239</td>\n      <td>...</td>\n      <td>1.0</td>\n      <td>0.0</td>\n      <td>1.0</td>\n      <td>0.0</td>\n      <td>0.0</td>\n      <td>0.0</td>\n      <td>0.0</td>\n      <td>0.0</td>\n      <td>0.0</td>\n      <td>0.0</td>\n    </tr>\n    <tr>\n      <th>31</th>\n      <td>0.188482</td>\n      <td>0.006976</td>\n      <td>0.6</td>\n      <td>0.694444</td>\n      <td>0.067925</td>\n      <td>0.135376</td>\n      <td>0.684211</td>\n      <td>0.193750</td>\n      <td>0.308333</td>\n      <td>0.132836</td>\n      <td>...</td>\n      <td>1.0</td>\n      <td>0.0</td>\n      <td>1.0</td>\n      <td>0.0</td>\n      <td>0.0</td>\n      <td>0.0</td>\n      <td>0.0</td>\n      <td>0.0</td>\n      <td>0.0</td>\n      <td>0.0</td>\n    </tr>\n    <tr>\n      <th>32</th>\n      <td>0.188482</td>\n      <td>0.035028</td>\n      <td>0.6</td>\n      <td>0.472222</td>\n      <td>0.116981</td>\n      <td>0.175330</td>\n      <td>0.473684</td>\n      <td>0.137500</td>\n      <td>0.308333</td>\n      <td>0.132836</td>\n      <td>...</td>\n      <td>1.0</td>\n      <td>0.0</td>\n      <td>1.0</td>\n      <td>0.0</td>\n      <td>0.0</td>\n      <td>0.0</td>\n      <td>0.0</td>\n      <td>0.0</td>\n      <td>0.0</td>\n      <td>0.0</td>\n    </tr>\n    <tr>\n      <th>33</th>\n      <td>0.188482</td>\n      <td>0.049923</td>\n      <td>0.6</td>\n      <td>0.472222</td>\n      <td>0.116981</td>\n      <td>0.181536</td>\n      <td>0.473684</td>\n      <td>0.137500</td>\n      <td>0.308333</td>\n      <td>0.132836</td>\n      <td>...</td>\n      <td>1.0</td>\n      <td>0.0</td>\n      <td>1.0</td>\n      <td>0.0</td>\n      <td>0.0</td>\n      <td>0.0</td>\n      <td>0.0</td>\n      <td>0.0</td>\n      <td>0.0</td>\n      <td>0.0</td>\n    </tr>\n    <tr>\n      <th>34</th>\n      <td>0.235602</td>\n      <td>0.054044</td>\n      <td>0.4</td>\n      <td>0.472222</td>\n      <td>0.116981</td>\n      <td>0.202483</td>\n      <td>0.473684</td>\n      <td>0.137500</td>\n      <td>0.308333</td>\n      <td>0.332836</td>\n      <td>...</td>\n      <td>1.0</td>\n      <td>0.0</td>\n      <td>1.0</td>\n      <td>0.0</td>\n      <td>0.0</td>\n      <td>0.0</td>\n      <td>0.0</td>\n      <td>0.0</td>\n      <td>0.0</td>\n      <td>0.0</td>\n    </tr>\n    <tr>\n      <th>35</th>\n      <td>0.068063</td>\n      <td>0.054044</td>\n      <td>0.4</td>\n      <td>0.472222</td>\n      <td>0.116981</td>\n      <td>0.207913</td>\n      <td>0.473684</td>\n      <td>0.137500</td>\n      <td>0.300000</td>\n      <td>0.238806</td>\n      <td>...</td>\n      <td>1.0</td>\n      <td>0.0</td>\n      <td>1.0</td>\n      <td>0.0</td>\n      <td>0.0</td>\n      <td>0.0</td>\n      <td>0.0</td>\n      <td>0.0</td>\n      <td>0.0</td>\n      <td>0.0</td>\n    </tr>\n    <tr>\n      <th>36</th>\n      <td>0.214660</td>\n      <td>0.068939</td>\n      <td>0.4</td>\n      <td>0.388889</td>\n      <td>0.184906</td>\n      <td>0.290147</td>\n      <td>0.447368</td>\n      <td>0.125000</td>\n      <td>0.408333</td>\n      <td>0.394030</td>\n      <td>...</td>\n      <td>1.0</td>\n      <td>0.0</td>\n      <td>1.0</td>\n      <td>0.0</td>\n      <td>0.0</td>\n      <td>0.0</td>\n      <td>0.0</td>\n      <td>0.0</td>\n      <td>0.0</td>\n      <td>0.0</td>\n    </tr>\n    <tr>\n      <th>37</th>\n      <td>0.214660</td>\n      <td>0.098729</td>\n      <td>0.4</td>\n      <td>0.388889</td>\n      <td>0.184906</td>\n      <td>0.310706</td>\n      <td>0.447368</td>\n      <td>0.125000</td>\n      <td>0.408333</td>\n      <td>0.394030</td>\n      <td>...</td>\n      <td>1.0</td>\n      <td>0.0</td>\n      <td>1.0</td>\n      <td>0.0</td>\n      <td>0.0</td>\n      <td>0.0</td>\n      <td>0.0</td>\n      <td>0.0</td>\n      <td>0.0</td>\n      <td>0.0</td>\n    </tr>\n    <tr>\n      <th>38</th>\n      <td>0.104712</td>\n      <td>0.092523</td>\n      <td>0.4</td>\n      <td>0.388889</td>\n      <td>0.184906</td>\n      <td>0.316524</td>\n      <td>0.447368</td>\n      <td>0.125000</td>\n      <td>0.408333</td>\n      <td>0.511940</td>\n      <td>...</td>\n      <td>1.0</td>\n      <td>0.0</td>\n      <td>1.0</td>\n      <td>0.0</td>\n      <td>0.0</td>\n      <td>0.0</td>\n      <td>0.0</td>\n      <td>0.0</td>\n      <td>0.0</td>\n      <td>0.0</td>\n    </tr>\n    <tr>\n      <th>39</th>\n      <td>0.104712</td>\n      <td>0.128519</td>\n      <td>0.4</td>\n      <td>0.388889</td>\n      <td>0.184906</td>\n      <td>0.342901</td>\n      <td>0.447368</td>\n      <td>0.125000</td>\n      <td>0.183333</td>\n      <td>0.511940</td>\n      <td>...</td>\n      <td>1.0</td>\n      <td>0.0</td>\n      <td>1.0</td>\n      <td>0.0</td>\n      <td>0.0</td>\n      <td>0.0</td>\n      <td>0.0</td>\n      <td>0.0</td>\n      <td>0.0</td>\n      <td>0.0</td>\n    </tr>\n    <tr>\n      <th>40</th>\n      <td>0.104712</td>\n      <td>0.194305</td>\n      <td>0.4</td>\n      <td>0.305556</td>\n      <td>0.184906</td>\n      <td>0.378976</td>\n      <td>0.315789</td>\n      <td>0.125000</td>\n      <td>0.408333</td>\n      <td>0.511940</td>\n      <td>...</td>\n      <td>1.0</td>\n      <td>0.0</td>\n      <td>0.0</td>\n      <td>0.0</td>\n      <td>0.0</td>\n      <td>0.0</td>\n      <td>0.0</td>\n      <td>1.0</td>\n      <td>0.0</td>\n      <td>0.0</td>\n    </tr>\n    <tr>\n      <th>41</th>\n      <td>0.219895</td>\n      <td>0.129760</td>\n      <td>0.6</td>\n      <td>0.333333</td>\n      <td>0.184906</td>\n      <td>0.312258</td>\n      <td>0.394737</td>\n      <td>0.131250</td>\n      <td>0.475000</td>\n      <td>0.417910</td>\n      <td>...</td>\n      <td>1.0</td>\n      <td>0.0</td>\n      <td>0.0</td>\n      <td>1.0</td>\n      <td>0.0</td>\n      <td>0.0</td>\n      <td>0.0</td>\n      <td>0.0</td>\n      <td>0.0</td>\n      <td>0.0</td>\n    </tr>\n    <tr>\n      <th>42</th>\n      <td>0.298429</td>\n      <td>0.041383</td>\n      <td>0.4</td>\n      <td>0.305556</td>\n      <td>0.188679</td>\n      <td>0.329325</td>\n      <td>0.342105</td>\n      <td>0.093750</td>\n      <td>0.125000</td>\n      <td>0.441791</td>\n      <td>...</td>\n      <td>1.0</td>\n      <td>0.0</td>\n      <td>0.0</td>\n      <td>1.0</td>\n      <td>0.0</td>\n      <td>0.0</td>\n      <td>0.0</td>\n      <td>0.0</td>\n      <td>0.0</td>\n      <td>0.0</td>\n    </tr>\n    <tr>\n      <th>43</th>\n      <td>0.298429</td>\n      <td>0.200777</td>\n      <td>0.6</td>\n      <td>0.694444</td>\n      <td>0.109434</td>\n      <td>0.149728</td>\n      <td>0.710526</td>\n      <td>0.162500</td>\n      <td>0.275000</td>\n      <td>0.220896</td>\n      <td>...</td>\n      <td>1.0</td>\n      <td>0.0</td>\n      <td>0.0</td>\n      <td>1.0</td>\n      <td>0.0</td>\n      <td>0.0</td>\n      <td>0.0</td>\n      <td>0.0</td>\n      <td>0.0</td>\n      <td>0.0</td>\n    </tr>\n    <tr>\n      <th>44</th>\n      <td>0.298429</td>\n      <td>0.200777</td>\n      <td>0.4</td>\n      <td>0.694444</td>\n      <td>0.109434</td>\n      <td>0.163305</td>\n      <td>0.710526</td>\n      <td>0.162500</td>\n      <td>0.275000</td>\n      <td>0.220896</td>\n      <td>...</td>\n      <td>1.0</td>\n      <td>0.0</td>\n      <td>0.0</td>\n      <td>1.0</td>\n      <td>0.0</td>\n      <td>0.0</td>\n      <td>0.0</td>\n      <td>0.0</td>\n      <td>0.0</td>\n      <td>0.0</td>\n    </tr>\n    <tr>\n      <th>45</th>\n      <td>0.298429</td>\n      <td>0.147212</td>\n      <td>0.8</td>\n      <td>0.305556</td>\n      <td>0.218868</td>\n      <td>0.483320</td>\n      <td>0.342105</td>\n      <td>0.137500</td>\n      <td>0.408333</td>\n      <td>0.470149</td>\n      <td>...</td>\n      <td>1.0</td>\n      <td>0.0</td>\n      <td>0.0</td>\n      <td>0.0</td>\n      <td>0.0</td>\n      <td>0.0</td>\n      <td>0.0</td>\n      <td>0.0</td>\n      <td>0.0</td>\n      <td>1.0</td>\n    </tr>\n    <tr>\n      <th>46</th>\n      <td>0.418848</td>\n      <td>0.673551</td>\n      <td>0.4</td>\n      <td>0.055556</td>\n      <td>0.743396</td>\n      <td>1.000000</td>\n      <td>0.078947</td>\n      <td>0.068750</td>\n      <td>0.775000</td>\n      <td>0.873134</td>\n      <td>...</td>\n      <td>1.0</td>\n      <td>0.0</td>\n      <td>0.0</td>\n      <td>0.0</td>\n      <td>0.0</td>\n      <td>0.0</td>\n      <td>0.0</td>\n      <td>1.0</td>\n      <td>0.0</td>\n      <td>0.0</td>\n    </tr>\n    <tr>\n      <th>47</th>\n      <td>0.298429</td>\n      <td>0.755474</td>\n      <td>0.4</td>\n      <td>0.055556</td>\n      <td>0.743396</td>\n      <td>1.000000</td>\n      <td>0.078947</td>\n      <td>0.068750</td>\n      <td>0.775000</td>\n      <td>0.873134</td>\n      <td>...</td>\n      <td>1.0</td>\n      <td>0.0</td>\n      <td>0.0</td>\n      <td>0.0</td>\n      <td>0.0</td>\n      <td>0.0</td>\n      <td>0.0</td>\n      <td>1.0</td>\n      <td>0.0</td>\n      <td>0.0</td>\n    </tr>\n    <tr>\n      <th>48</th>\n      <td>0.298429</td>\n      <td>0.766645</td>\n      <td>0.4</td>\n      <td>0.000000</td>\n      <td>1.000000</td>\n      <td>0.955004</td>\n      <td>0.026316</td>\n      <td>0.281250</td>\n      <td>0.858333</td>\n      <td>0.755224</td>\n      <td>...</td>\n      <td>1.0</td>\n      <td>0.0</td>\n      <td>0.0</td>\n      <td>0.0</td>\n      <td>0.0</td>\n      <td>0.0</td>\n      <td>0.0</td>\n      <td>1.0</td>\n      <td>0.0</td>\n      <td>0.0</td>\n    </tr>\n    <tr>\n      <th>49</th>\n      <td>0.204188</td>\n      <td>0.001912</td>\n      <td>0.6</td>\n      <td>0.472222</td>\n      <td>0.113208</td>\n      <td>0.155935</td>\n      <td>0.394737</td>\n      <td>0.125000</td>\n      <td>0.325000</td>\n      <td>0.268657</td>\n      <td>...</td>\n      <td>1.0</td>\n      <td>0.0</td>\n      <td>0.0</td>\n      <td>1.0</td>\n      <td>0.0</td>\n      <td>0.0</td>\n      <td>0.0</td>\n      <td>0.0</td>\n      <td>0.0</td>\n      <td>0.0</td>\n    </tr>\n  </tbody>\n</table>\n<p>50 rows × 62 columns</p>\n</div>"
     },
     "execution_count": 283,
     "metadata": {},
     "output_type": "execute_result"
    }
   ],
   "source": [
    "df_preprocessed.head(50)"
   ],
   "metadata": {
    "collapsed": false,
    "ExecuteTime": {
     "start_time": "2023-04-22T21:18:10.922824Z",
     "end_time": "2023-04-22T21:18:10.993651Z"
    }
   }
  },
  {
   "cell_type": "code",
   "execution_count": 284,
   "outputs": [],
   "source": [
    "mean = np.mean(df_preprocessed, axis=0)\n",
    "std = np.std(df_preprocessed, axis=0)"
   ],
   "metadata": {
    "collapsed": false,
    "ExecuteTime": {
     "start_time": "2023-04-22T21:18:18.289008Z",
     "end_time": "2023-04-22T21:18:18.306641Z"
    }
   }
  },
  {
   "cell_type": "code",
   "execution_count": 287,
   "outputs": [
    {
     "name": "stdout",
     "output_type": "stream",
     "text": [
      "0     0.298429\n",
      "1     0.200777\n",
      "2     0.564706\n",
      "3     0.340005\n",
      "4     0.248650\n",
      "        ...   \n",
      "57    0.098039\n",
      "58    0.004902\n",
      "59    0.455882\n",
      "60    0.044118\n",
      "61    0.004902\n",
      "Length: 62, dtype: float64\n"
     ]
    }
   ],
   "source": [
    "print(mean)"
   ],
   "metadata": {
    "collapsed": false,
    "ExecuteTime": {
     "start_time": "2023-04-22T21:18:38.617654Z",
     "end_time": "2023-04-22T21:18:38.627776Z"
    }
   }
  },
  {
   "cell_type": "code",
   "execution_count": 289,
   "outputs": [
    {
     "data": {
      "text/plain": "0.22945244490383063"
     },
     "execution_count": 289,
     "metadata": {},
     "output_type": "execute_result"
    }
   ],
   "source": [
    "np.mean(mean)"
   ],
   "metadata": {
    "collapsed": false,
    "ExecuteTime": {
     "start_time": "2023-04-22T21:18:45.092386Z",
     "end_time": "2023-04-22T21:18:45.117841Z"
    }
   }
  },
  {
   "cell_type": "code",
   "execution_count": null,
   "outputs": [],
   "source": [],
   "metadata": {
    "collapsed": false
   }
  }
 ],
 "metadata": {
  "kernelspec": {
   "display_name": "Python 3",
   "language": "python",
   "name": "python3"
  },
  "language_info": {
   "codemirror_mode": {
    "name": "ipython",
    "version": 2
   },
   "file_extension": ".py",
   "mimetype": "text/x-python",
   "name": "python",
   "nbconvert_exporter": "python",
   "pygments_lexer": "ipython2",
   "version": "2.7.6"
  }
 },
 "nbformat": 4,
 "nbformat_minor": 0
}
